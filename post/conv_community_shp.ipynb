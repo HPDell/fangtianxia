{
 "cells": [
  {
   "cell_type": "code",
   "execution_count": 1,
   "metadata": {},
   "outputs": [],
   "source": [
    "import pandas as pd\n",
    "import geopandas as gp"
   ]
  },
  {
   "cell_type": "markdown",
   "metadata": {},
   "source": [
    "# 连接房地产信息和坐标"
   ]
  },
  {
   "cell_type": "code",
   "execution_count": 2,
   "metadata": {},
   "outputs": [
    {
     "name": "stdout",
     "output_type": "stream",
     "text": [
      "<class 'pandas.core.frame.DataFrame'>\n",
      "Index: 777 entries, 0 to 776\n",
      "Data columns (total 69 columns):\n",
      " #   Column    Non-Null Count  Dtype \n",
      "---  ------    --------------  ----- \n",
      " 0   name      777 non-null    object\n",
      " 1   link      777 non-null    object\n",
      " 2   district  777 non-null    object\n",
      " 3   物业类别      10 non-null     object\n",
      " 4   项目特色      56 non-null     object\n",
      " 5   建筑类别      10 non-null     object\n",
      " 6   装修状况      56 non-null     object\n",
      " 7   产权年限      10 non-null     object\n",
      " 8   环线位置      766 non-null    object\n",
      " 9   开发商       777 non-null    object\n",
      " 10  楼盘地址      10 non-null     object\n",
      " 11  销售状态      10 non-null     object\n",
      " 12  开盘时间      10 non-null     object\n",
      " 13  交房时间      10 non-null     object\n",
      " 14  售楼地址      298 non-null    object\n",
      " 15  咨询电话      10 non-null     object\n",
      " 16  主力户型      10 non-null     object\n",
      " 17  预售许可证     10 non-null     object\n",
      " 18  占地面积      777 non-null    object\n",
      " 19  建筑面积      777 non-null    object\n",
      " 20  容积率       777 non-null    object\n",
      " 21  绿化率       777 non-null    object\n",
      " 22  楼栋总数      743 non-null    object\n",
      " 23  总户数       10 non-null     object\n",
      " 24  物业公司      777 non-null    object\n",
      " 25  物业费       777 non-null    object\n",
      " 26  物业费描述     10 non-null     object\n",
      " 27  停车位       777 non-null    object\n",
      " 28  停车位描述     10 non-null     object\n",
      " 29  楼层状况      10 non-null     object\n",
      " 30  装修标准      1 non-null      object\n",
      " 31  本月均价      734 non-null    object\n",
      " 32  小区地址      767 non-null    object\n",
      " 33  产权描述      734 non-null    object\n",
      " 34  所属区域      767 non-null    object\n",
      " 35  物业类型      767 non-null    object\n",
      " 36  建筑年代      700 non-null    object\n",
      " 37  建筑类型      767 non-null    object\n",
      " 38  房屋总数      732 non-null    object\n",
      " 39  供暖        763 non-null    object\n",
      " 40  供电        713 non-null    object\n",
      " 41  供水        713 non-null    object\n",
      " 42  供气        681 non-null    object\n",
      " 43  附加信息      734 non-null    object\n",
      " 44  供暖2       672 non-null    object\n",
      " 45  通讯设备      585 non-null    object\n",
      " 46  安全管理      583 non-null    object\n",
      " 47  卫生服务      584 non-null    object\n",
      " 48  小区入口      567 non-null    object\n",
      " 49  停车位2      714 non-null    object\n",
      " 50  售楼电话      295 non-null    object\n",
      " 51  总层数       46 non-null     object\n",
      " 52  标准层面积     46 non-null     object\n",
      " 53  开间面积      46 non-null     object\n",
      " 54  层高        46 non-null     object\n",
      " 55  竣工时间      46 non-null     object\n",
      " 56  电梯数量      46 non-null     object\n",
      " 57  小区地址2     13 non-null     object\n",
      " 58  所属区域2     13 non-null     object\n",
      " 59  环线位置2     13 non-null     object\n",
      " 60  物业类型2     13 non-null     object\n",
      " 61  建筑类型2     13 non-null     object\n",
      " 62  绿化率2      13 non-null     object\n",
      " 63  容积率2      13 non-null     object\n",
      " 64  物业费2      13 non-null     object\n",
      " 65  建筑面积2     13 non-null     object\n",
      " 66  占地面积2     13 non-null     object\n",
      " 67  开发商2      13 non-null     object\n",
      " 68  物业公司2     13 non-null     object\n",
      "dtypes: object(69)\n",
      "memory usage: 424.9+ KB\n"
     ]
    }
   ],
   "source": [
    "community_info = pd.read_json(\"../community_info.jsonl\", lines=True)\n",
    "community_info = community_info.join(pd.json_normalize(community_info[\"info\"]))\n",
    "community_info = community_info.loc[community_info[\"info\"] != {}, :]\n",
    "community_info = community_info.drop(columns=\"info\")\n",
    "community_info.info()"
   ]
  },
  {
   "cell_type": "code",
   "execution_count": 3,
   "metadata": {},
   "outputs": [
    {
     "name": "stdout",
     "output_type": "stream",
     "text": [
      "<class 'pandas.core.frame.DataFrame'>\n",
      "Index: 4794 entries, 0 to 4794\n",
      "Data columns (total 3 columns):\n",
      " #   Column   Non-Null Count  Dtype \n",
      "---  ------   --------------  ----- \n",
      " 0   uuid     4794 non-null   object\n",
      " 1   name     4794 non-null   object\n",
      " 2   address  4794 non-null   object\n",
      "dtypes: object(3)\n",
      "memory usage: 149.8+ KB\n"
     ]
    }
   ],
   "source": [
    "community_id = pd.read_csv(\"../community.csv\", index_col=0)\n",
    "community_id.info()"
   ]
  },
  {
   "cell_type": "code",
   "execution_count": 4,
   "metadata": {},
   "outputs": [
    {
     "name": "stdout",
     "output_type": "stream",
     "text": [
      "<class 'pandas.core.frame.DataFrame'>\n",
      "RangeIndex: 4300 entries, 0 to 4299\n",
      "Data columns (total 3 columns):\n",
      " #   Column  Non-Null Count  Dtype  \n",
      "---  ------  --------------  -----  \n",
      " 0   uuid    4300 non-null   object \n",
      " 1   lon     4300 non-null   float64\n",
      " 2   lat     4300 non-null   float64\n",
      "dtypes: float64(2), object(1)\n",
      "memory usage: 100.9+ KB\n"
     ]
    }
   ],
   "source": [
    "community_loc = pd.read_json(\"../community_geolocation.jsonl\", lines=True).drop(columns=[\"index\", \"name\", \"address\", \"waiting\"])\n",
    "community_loc.info()"
   ]
  },
  {
   "cell_type": "code",
   "execution_count": 5,
   "metadata": {},
   "outputs": [
    {
     "name": "stdout",
     "output_type": "stream",
     "text": [
      "<class 'pandas.core.frame.DataFrame'>\n",
      "RangeIndex: 4300 entries, 0 to 4299\n",
      "Data columns (total 5 columns):\n",
      " #   Column   Non-Null Count  Dtype  \n",
      "---  ------   --------------  -----  \n",
      " 0   uuid     4300 non-null   object \n",
      " 1   name     4300 non-null   object \n",
      " 2   address  4300 non-null   object \n",
      " 3   lon      4300 non-null   float64\n",
      " 4   lat      4300 non-null   float64\n",
      "dtypes: float64(2), object(3)\n",
      "memory usage: 168.1+ KB\n"
     ]
    }
   ],
   "source": [
    "community = pd.merge(community_id, community_loc, how=\"inner\", on=\"uuid\")\n",
    "community.info()"
   ]
  },
  {
   "cell_type": "markdown",
   "metadata": {},
   "source": [
    "# 将房地产转换为空间矢量数据"
   ]
  },
  {
   "cell_type": "code",
   "execution_count": 6,
   "metadata": {},
   "outputs": [],
   "source": [
    "### 首先需要将高德坐标系转换为 WGS84 坐标系\n",
    "from coords_trans import CoordinateTransform"
   ]
  },
  {
   "cell_type": "code",
   "execution_count": 7,
   "metadata": {},
   "outputs": [],
   "source": [
    "transer = CoordinateTransform()"
   ]
  },
  {
   "cell_type": "code",
   "execution_count": 10,
   "metadata": {},
   "outputs": [
    {
     "name": "stdout",
     "output_type": "stream",
     "text": [
      "<class 'pandas.core.frame.DataFrame'>\n",
      "RangeIndex: 4300 entries, 0 to 4299\n",
      "Data columns (total 7 columns):\n",
      " #   Column   Non-Null Count  Dtype  \n",
      "---  ------   --------------  -----  \n",
      " 0   uuid     4300 non-null   object \n",
      " 1   name     4300 non-null   object \n",
      " 2   address  4300 non-null   object \n",
      " 3   lon      4300 non-null   float64\n",
      " 4   lat      4300 non-null   float64\n",
      " 5   lon_wgs  4300 non-null   float64\n",
      " 6   lat_wgs  4300 non-null   float64\n",
      "dtypes: float64(4), object(3)\n",
      "memory usage: 235.3+ KB\n"
     ]
    }
   ],
   "source": [
    "community[[\"lon_wgs\", \"lat_wgs\"]] = [transer.gcj02_to_wgs84(u, v) for u, v in zip(community[\"lon\"], community[\"lat\"])]\n",
    "community.info()"
   ]
  },
  {
   "cell_type": "code",
   "execution_count": 11,
   "metadata": {},
   "outputs": [
    {
     "name": "stdout",
     "output_type": "stream",
     "text": [
      "<class 'geopandas.geodataframe.GeoDataFrame'>\n",
      "RangeIndex: 4300 entries, 0 to 4299\n",
      "Data columns (total 8 columns):\n",
      " #   Column    Non-Null Count  Dtype   \n",
      "---  ------    --------------  -----   \n",
      " 0   uuid      4300 non-null   object  \n",
      " 1   name      4300 non-null   object  \n",
      " 2   address   4300 non-null   object  \n",
      " 3   lon       4300 non-null   float64 \n",
      " 4   lat       4300 non-null   float64 \n",
      " 5   lon_wgs   4300 non-null   float64 \n",
      " 6   lat_wgs   4300 non-null   float64 \n",
      " 7   geometry  4300 non-null   geometry\n",
      "dtypes: float64(4), geometry(1), object(3)\n",
      "memory usage: 268.9+ KB\n"
     ]
    }
   ],
   "source": [
    "community_geo = gp.points_from_xy(community[\"lon_wgs\"], community[\"lat_wgs\"])\n",
    "community_gdf = gp.GeoDataFrame(community, geometry=community_geo, crs=4326)\n",
    "community_gdf.info()"
   ]
  },
  {
   "cell_type": "code",
   "execution_count": 12,
   "metadata": {},
   "outputs": [],
   "source": [
    "community_gdf.to_file(\"../shp/community_locations.shp\")"
   ]
  },
  {
   "cell_type": "markdown",
   "metadata": {},
   "source": [
    "# 查找没有编码出坐标的小区"
   ]
  },
  {
   "cell_type": "code",
   "execution_count": 36,
   "metadata": {},
   "outputs": [
    {
     "data": {
      "text/html": [
       "<div>\n",
       "<style scoped>\n",
       "    .dataframe tbody tr th:only-of-type {\n",
       "        vertical-align: middle;\n",
       "    }\n",
       "\n",
       "    .dataframe tbody tr th {\n",
       "        vertical-align: top;\n",
       "    }\n",
       "\n",
       "    .dataframe thead th {\n",
       "        text-align: right;\n",
       "    }\n",
       "</style>\n",
       "<table border=\"1\" class=\"dataframe\">\n",
       "  <thead>\n",
       "    <tr style=\"text-align: right;\">\n",
       "      <th></th>\n",
       "      <th>uuid</th>\n",
       "      <th>name</th>\n",
       "      <th>address</th>\n",
       "    </tr>\n",
       "  </thead>\n",
       "  <tbody>\n",
       "    <tr>\n",
       "      <th>23</th>\n",
       "      <td>8de2570c-4739-45fe-bf49-affaae932dcb</td>\n",
       "      <td>绿地海珀兰轩</td>\n",
       "      <td>经开南三环与机场快速路交汇处</td>\n",
       "    </tr>\n",
       "    <tr>\n",
       "      <th>80</th>\n",
       "      <td>35871bae-b1eb-4e57-b1f7-cbb61274edde</td>\n",
       "      <td>河南省水利第二工程局家属院</td>\n",
       "      <td>经开</td>\n",
       "    </tr>\n",
       "    <tr>\n",
       "      <th>81</th>\n",
       "      <td>4df3f0a7-4c02-42dd-876e-954a1e29afcc</td>\n",
       "      <td>经济开发区公安分局家属院</td>\n",
       "      <td>经开</td>\n",
       "    </tr>\n",
       "    <tr>\n",
       "      <th>94</th>\n",
       "      <td>ee9d6c55-603d-4554-924e-4eb38c898898</td>\n",
       "      <td>经开管委会家属院</td>\n",
       "      <td>经开航海路三大街交汇处东南角</td>\n",
       "    </tr>\n",
       "    <tr>\n",
       "      <th>99</th>\n",
       "      <td>4349bc80-44ed-4f15-ba0a-2677ccedae45</td>\n",
       "      <td>航海路第二大街29号院</td>\n",
       "      <td>经开</td>\n",
       "    </tr>\n",
       "    <tr>\n",
       "      <th>...</th>\n",
       "      <td>...</td>\n",
       "      <td>...</td>\n",
       "      <td>...</td>\n",
       "    </tr>\n",
       "    <tr>\n",
       "      <th>4790</th>\n",
       "      <td>97abfe39-25dc-4b4f-b285-65690e68f7c1</td>\n",
       "      <td>瀚海·光辉城市</td>\n",
       "      <td>航空港区志洋路孙武路交会处东南</td>\n",
       "    </tr>\n",
       "    <tr>\n",
       "      <th>4791</th>\n",
       "      <td>610777e5-7ff7-4a77-b122-464c3d59724d</td>\n",
       "      <td>浩创梧桐花语</td>\n",
       "      <td>航空港区薛店神州路与枣园路交会处</td>\n",
       "    </tr>\n",
       "    <tr>\n",
       "      <th>4792</th>\n",
       "      <td>63110159-4347-4096-8665-ea89b6c8a3f6</td>\n",
       "      <td>中绘·集云筑</td>\n",
       "      <td>航空港区华夏大道与领航路交汇处</td>\n",
       "    </tr>\n",
       "    <tr>\n",
       "      <th>4793</th>\n",
       "      <td>00eb2a8b-4a9e-4097-8fe0-de19de519503</td>\n",
       "      <td>旭辉·空港时代</td>\n",
       "      <td>航空港区G107与志洋路交叉口东南角</td>\n",
       "    </tr>\n",
       "    <tr>\n",
       "      <th>4794</th>\n",
       "      <td>19eff1d4-2ad5-4644-9953-251d629765a7</td>\n",
       "      <td>龙中金源</td>\n",
       "      <td>航空港区雍州路与护航路交会处西北角</td>\n",
       "    </tr>\n",
       "  </tbody>\n",
       "</table>\n",
       "<p>981 rows × 3 columns</p>\n",
       "</div>"
      ],
      "text/plain": [
       "                                      uuid           name             address\n",
       "23    8de2570c-4739-45fe-bf49-affaae932dcb         绿地海珀兰轩      经开南三环与机场快速路交汇处\n",
       "80    35871bae-b1eb-4e57-b1f7-cbb61274edde  河南省水利第二工程局家属院                  经开\n",
       "81    4df3f0a7-4c02-42dd-876e-954a1e29afcc   经济开发区公安分局家属院                  经开\n",
       "94    ee9d6c55-603d-4554-924e-4eb38c898898       经开管委会家属院      经开航海路三大街交汇处东南角\n",
       "99    4349bc80-44ed-4f15-ba0a-2677ccedae45    航海路第二大街29号院                  经开\n",
       "...                                    ...            ...                 ...\n",
       "4790  97abfe39-25dc-4b4f-b285-65690e68f7c1        瀚海·光辉城市     航空港区志洋路孙武路交会处东南\n",
       "4791  610777e5-7ff7-4a77-b122-464c3d59724d         浩创梧桐花语    航空港区薛店神州路与枣园路交会处\n",
       "4792  63110159-4347-4096-8665-ea89b6c8a3f6         中绘·集云筑     航空港区华夏大道与领航路交汇处\n",
       "4793  00eb2a8b-4a9e-4097-8fe0-de19de519503        旭辉·空港时代  航空港区G107与志洋路交叉口东南角\n",
       "4794  19eff1d4-2ad5-4644-9953-251d629765a7           龙中金源   航空港区雍州路与护航路交会处西北角\n",
       "\n",
       "[981 rows x 3 columns]"
      ]
     },
     "execution_count": 36,
     "metadata": {},
     "output_type": "execute_result"
    }
   ],
   "source": [
    "uuid_found = community_loc[\"uuid\"].tolist()\n",
    "community_noloc = community_id.loc[[(x not in uuid_found) for x in community_id[\"uuid\"]], :]\n",
    "community_noloc"
   ]
  },
  {
   "cell_type": "code",
   "execution_count": 37,
   "metadata": {},
   "outputs": [],
   "source": [
    "community_noloc.to_csv(\"../community_noloc.csv\")"
   ]
  }
 ],
 "metadata": {
  "kernelspec": {
   "display_name": ".venv",
   "language": "python",
   "name": "python3"
  },
  "language_info": {
   "codemirror_mode": {
    "name": "ipython",
    "version": 3
   },
   "file_extension": ".py",
   "mimetype": "text/x-python",
   "name": "python",
   "nbconvert_exporter": "python",
   "pygments_lexer": "ipython3",
   "version": "3.10.9"
  }
 },
 "nbformat": 4,
 "nbformat_minor": 2
}
